{
 "cells": [
  {
   "cell_type": "markdown",
   "metadata": {},
   "source": [
    "# Запустить виртуальное окружение"
   ]
  },
  {
   "cell_type": "code",
   "execution_count": null,
   "metadata": {},
   "outputs": [],
   "source": [
    "Создаётся через модуль venv, который идёт в поставке Python 3.\n",
    "\n",
    "Используется команда \"python −m venv\" и название директории, в которой будет создано виртуальное окружение.\n",
    "\n",
    "mkdir project\n",
    "cd project\n",
    "python -m venv env\n",
    "\n",
    "Статья: https://tyapk.ru/blog/post/python-virtual-environment-windows"
   ]
  },
  {
   "cell_type": "markdown",
   "metadata": {},
   "source": [
    "# Полезные функции"
   ]
  },
  {
   "cell_type": "markdown",
   "metadata": {},
   "source": [
    "## map()"
   ]
  },
  {
   "cell_type": "code",
   "execution_count": 14,
   "metadata": {},
   "outputs": [
    {
     "name": "stdout",
     "output_type": "stream",
     "text": [
      "[2, 4, 5, 6, 8]\n"
     ]
    }
   ],
   "source": [
    "# задаешь в скобках ЧТО нужно сделать и через запятую С ЧЕМ это нужно сделать\n",
    "# в итоге на входе ['2', '4', 5, 6, '8'], а на выходе [2, 4, 5, 6, 8]\n",
    "example = ['2', '4', 5, 6, '8']\n",
    "result = list(map(int, example))\n",
    "print(result)"
   ]
  },
  {
   "cell_type": "markdown",
   "metadata": {},
   "source": [
    "## Объектно-ориентированное программирование"
   ]
  },
  {
   "cell_type": "code",
   "execution_count": 1,
   "metadata": {},
   "outputs": [
    {
     "name": "stdout",
     "output_type": "stream",
     "text": [
      "<__main__.Point object at 0x000001FDA8A0D508>\n"
     ]
    }
   ],
   "source": [
    "class Point: \n",
    "\tdef __init__(self, x, y): # __init__ для случаев, когда заранее значения параметров не задаются, а здаются только переменные. Дальше при использовании объекта нужно задать переменные\n",
    "\t\tself.x = x\n",
    "\t\tself.y = y\n",
    "\n",
    "\tdef coordinates(self): \n",
    "\t\tprint(f'Координаты: x {self.x}, y {self.y}')\n",
    "\n",
    "my_point = Point(1, 3) # теперь в Point нужно задавать конкретные координаты переменных, потому без этого нихуя не получится\n",
    "\n",
    "print(my_point)"
   ]
  },
  {
   "cell_type": "markdown",
   "metadata": {},
   "source": [
    "## Расширенный калькулятор"
   ]
  },
  {
   "cell_type": "code",
   "execution_count": 4,
   "metadata": {},
   "outputs": [
    {
     "name": "stdout",
     "output_type": "stream",
     "text": [
      "['2', ['1', '3/2']]\n",
      "[2.0, -0.5]\n",
      "1.5\n"
     ]
    }
   ],
   "source": [
    "def calculator(string):\n",
    "    try:\n",
    "        string = string.lower().replace(' ', '') # делаем все символы маленькими и убираем пробелы\n",
    "        parts = string.split('+') # делаем из строки список, в котором части разделены по знаку '+'\n",
    "\n",
    "        for plus in range(len(parts)): # range от len просто получает пронумерованный список элементов листа parts. Дальше с этим дерьмом можно работать\n",
    "            if '-' in parts[plus]: # непонятно, почему просто plus не сделать\n",
    "                parts[plus] = parts[plus].split('-') # делим по символу минуса\n",
    "\n",
    "        print(parts)\n",
    "\n",
    "        for plus in range(len(parts)):\n",
    "            parts[plus] = precalculator(parts[plus])\n",
    "\n",
    "        print(parts)\n",
    "        result = sum(parts)\n",
    "    except ValueError:\n",
    "        result = \"Что-то не понял\"\n",
    "    except ZeroDivisionError:\n",
    "        result = \"Нельзя делить на ноль\"\n",
    "    return result\n",
    "\n",
    "def precalculator(part):\n",
    "    # если строка, то выставим хитрые условия по умножению и делению. Если лист, то функция вызывает сама себя (тут elif). И повторяется первый if \n",
    "    if type(part) is str:\n",
    "        if '*' in part: \n",
    "            result = 1\n",
    "            for subpart in part.split('*'): # перебором перемножаем все значения на единичку и возвращаем получившийся result \n",
    "                result *= float(subpart)\n",
    "            return result\n",
    "        if '/' in part:\n",
    "            parts = list(map(float, part.split('/'))) # приводим к числам и разделяем по знаку /\n",
    "            result = parts[0] # закрепляем первое число\n",
    "            for subpart in parts [1:]: # прописываем перебор для всех, кроме первого\n",
    "                result /= subpart # делим первое число на все последующие\n",
    "            return result\n",
    "        else:\n",
    "            return float(part)\n",
    "        \n",
    "    elif type(part) is list:\n",
    "        for i in range(len(part)): \n",
    "            part[i] = precalculator(part[i]) # функция вызывает сама себя (рекурсивный вызов)\n",
    "\n",
    "    return part[0] - sum(part[1:])\n",
    "\n",
    "\n",
    "\n",
    "if __name__ == \"__main__\": # проверка того, что программа запущена в консоли, а не импортирована в качестве модуля\n",
    "    print(calculator(\"2 + 1 - 3 / 2\"))\n",
    "    \n",
    "\n",
    "\n"
   ]
  },
  {
   "cell_type": "code",
   "execution_count": null,
   "metadata": {},
   "outputs": [],
   "source": []
  }
 ],
 "metadata": {
  "celltoolbar": "Raw Cell Format",
  "kernelspec": {
   "display_name": "Python 3",
   "language": "python",
   "name": "python3"
  },
  "language_info": {
   "codemirror_mode": {
    "name": "ipython",
    "version": 3
   },
   "file_extension": ".py",
   "mimetype": "text/x-python",
   "name": "python",
   "nbconvert_exporter": "python",
   "pygments_lexer": "ipython3",
   "version": "3.7.6"
  }
 },
 "nbformat": 4,
 "nbformat_minor": 4
}
